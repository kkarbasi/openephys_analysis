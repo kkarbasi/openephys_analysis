{
 "cells": [
  {
   "cell_type": "code",
   "execution_count": 1,
   "metadata": {},
   "outputs": [],
   "source": [
    "import OpenEphys\n",
    "import Kwik\n",
    "from matplotlib import pyplot as plt\n",
    "import numpy as np\n",
    "import os\n",
    "import re\n"
   ]
  },
  {
   "cell_type": "code",
   "execution_count": 2,
   "metadata": {},
   "outputs": [],
   "source": [
    "%matplotlib notebook\n",
    "%load_ext autoreload\n",
    "%autoreload 2"
   ]
  },
  {
   "cell_type": "code",
   "execution_count": 3,
   "metadata": {},
   "outputs": [],
   "source": [
    "# source_path = '/mnt/data/temp/kaveh/openEphys_data/2019-02-02/2019-02-02_16-00-36/'\n",
    "# source_path = '/mnt/data/temp/kaveh/openEphys_data/2019-02-02/2019-02-02_14-28-03/'\n",
    "# source_path = '/mnt/data/temp/kaveh/openEphys_data/2019-02-02/2019-02-02_15-43-35/'\n",
    "# source_path = '/mnt/data/temp/kaveh/openEphys_data/2019-02-02/2019-02-02_16-00-36/'\n",
    "# source_path = '/mnt/data/temp/kaveh/openEphys_data/2019-02-02/2019-02-02_16-06-41/'  <<<< KWIK\n",
    "# source_path = '/mnt/data/temp/kaveh/openEphys_data/2019-02-02/2019-02-02_16-22-41/'\n",
    "# source_path = '/mnt/data/temp/kaveh/openEphys_data/2018-11-27_17-21-05/experiment1_103.raw.kwd'\n",
    "# source_path = '/mnt/data/temp/kaveh/openEphys_data/2018-11-27_17-38-51/experiment1_103.raw.kwd'\n",
    "# source_path = '/mnt/data/temp/kaveh/openEphys_data/2019-02-06_09-22-17/2019-02-06_13-19-58/'\n",
    "# source_path = '/mnt/data/temp/kaveh/openEphys_data/2019-02-06_09-22-17/2019-02-06_13-06-08/'\n",
    "# source_path = '/mnt/data/temp/kaveh/openEphys_data/2019-02-08/2019-02-08_17-26-53/'\n",
    "source_path = '../data/OpenEphys_data/2019-04-26/2019-04-26_12-03-55/'"
   ]
  },
  {
   "cell_type": "code",
   "execution_count": 4,
   "metadata": {},
   "outputs": [],
   "source": [
    "f_names = []\n",
    "for root, dirnames, filenames in os.walk(source_path):\n",
    "    for filename in filenames:\n",
    "#         f_regex = re.compile(r\".*CH(\\d|\\d\\d)\\.continuous$\")\n",
    "#         f_regex = re.compile(r\".*CH(\\d)\\.continuous$\")\n",
    "        f_regex = re.compile(r\".*CH(1|2|3|4|5|6|7|8|9|10|11|12|13|14|15|16)\\.continuous$\")\n",
    "#         f_regex = re.compile(r\".*\\.continuous$\")\n",
    "#         f_regex = re.compile(r\".*_3\\.continuous$\")\n",
    "        if f_regex.match(filename):\n",
    "            f_names = f_names + [os.path.join(root, filename)]"
   ]
  },
  {
   "cell_type": "code",
   "execution_count": 5,
   "metadata": {},
   "outputs": [
    {
     "name": "stdout",
     "output_type": "stream",
     "text": [
      "0: ../data/OpenEphys_data/2019-04-26/2019-04-26_12-03-55/101_CH7.continuous\n",
      "1: ../data/OpenEphys_data/2019-04-26/2019-04-26_12-03-55/101_CH9.continuous\n",
      "2: ../data/OpenEphys_data/2019-04-26/2019-04-26_12-03-55/101_CH5.continuous\n",
      "3: ../data/OpenEphys_data/2019-04-26/2019-04-26_12-03-55/101_CH8.continuous\n",
      "4: ../data/OpenEphys_data/2019-04-26/2019-04-26_12-03-55/101_CH11.continuous\n",
      "5: ../data/OpenEphys_data/2019-04-26/2019-04-26_12-03-55/101_CH12.continuous\n",
      "6: ../data/OpenEphys_data/2019-04-26/2019-04-26_12-03-55/101_CH14.continuous\n",
      "7: ../data/OpenEphys_data/2019-04-26/2019-04-26_12-03-55/101_CH10.continuous\n",
      "8: ../data/OpenEphys_data/2019-04-26/2019-04-26_12-03-55/101_CH16.continuous\n",
      "9: ../data/OpenEphys_data/2019-04-26/2019-04-26_12-03-55/101_CH4.continuous\n",
      "10: ../data/OpenEphys_data/2019-04-26/2019-04-26_12-03-55/101_CH2.continuous\n",
      "11: ../data/OpenEphys_data/2019-04-26/2019-04-26_12-03-55/101_CH15.continuous\n",
      "12: ../data/OpenEphys_data/2019-04-26/2019-04-26_12-03-55/101_CH3.continuous\n",
      "13: ../data/OpenEphys_data/2019-04-26/2019-04-26_12-03-55/101_CH6.continuous\n",
      "14: ../data/OpenEphys_data/2019-04-26/2019-04-26_12-03-55/101_CH13.continuous\n",
      "15: ../data/OpenEphys_data/2019-04-26/2019-04-26_12-03-55/101_CH1.continuous\n"
     ]
    }
   ],
   "source": [
    "for i,fn in enumerate(f_names):\n",
    "    print('{}: {}'.format(i,fn))\n",
    "# source_path = '/mnt/data/temp/kaveh/openEphys_data/2019-02-02/2019-02-02_15-43-35/' _3 has good CS\n",
    "# source_path = '/mnt/data/temp/kaveh/openEphys_data/2019-02-02/2019-02-02_16-00-36/' mehhh"
   ]
  },
  {
   "cell_type": "code",
   "execution_count": 1,
   "metadata": {},
   "outputs": [],
   "source": [
    "import scipy.signal\n",
    "import scipy.fftpack\n",
    "\n",
    "def common_avg_ref(data, refrence, affected):\n",
    "    signal_average = np.mean(data[refrence, :], axis = 0)\n",
    "    data[affected,:] = data[affected,:] - signal_average\n",
    "\n",
    "def notch_all_harmonics(signal, base_freq, sampling_rate):\n",
    "    \"\"\"\n",
    "    Stoppass filter at the base_freq and all of its harmonics\n",
    "    \"\"\"\n",
    "    if base_freq > sampling_rate/2.0:\n",
    "        print('Invalid frequency to notch')\n",
    "        return\n",
    "    curr_freq = base_freq\n",
    "    while curr_freq < sampling_rate/2.0:\n",
    "        b, a = scipy.signal.iirnotch(curr_freq/(sampling_rate/2.0), 30)\n",
    "        signal = scipy.signal.lfilter(b, a, signal)\n",
    "        curr_freq = curr_freq + base_freq\n",
    "        \n",
    "    return signal\n",
    "        \n",
    "\n",
    "def butter_lowpass_filter(data, cutoff, fs, order=5):\n",
    "    nyq = 0.5 * fs\n",
    "    normal_cutoff = cutoff / nyq\n",
    "    b, a = scipy.signal.butter(order, normal_cutoff, btype='low', analog=False)\n",
    "    y = scipy.signal.lfilter(b, a, data)\n",
    "    return y\n",
    "\n",
    "\n",
    "def butter_bandpass_filter(data, lowcut, highcut, fs, order=5):\n",
    "    nyq = 0.5 * fs\n",
    "    low = lowcut / nyq\n",
    "    high = highcut / nyq\n",
    "    b, a = scipy.signal.butter(order, [low, high], btype='band')\n",
    "    y = scipy.signal.lfilter(b, a, data)\n",
    "    return y\n"
   ]
  },
  {
   "cell_type": "code",
   "execution_count": 8,
   "metadata": {},
   "outputs": [
    {
     "data": {
      "text/plain": [
       "30000.0"
      ]
     },
     "execution_count": 8,
     "metadata": {},
     "output_type": "execute_result"
    }
   ],
   "source": [
    "Fs"
   ]
  },
  {
   "cell_type": "code",
   "execution_count": 7,
   "metadata": {
    "scrolled": true
   },
   "outputs": [
    {
     "name": "stdout",
     "output_type": "stream",
     "text": [
      "0: reading ../data/OpenEphys_data/2019-04-26/2019-04-26_12-03-55/101_CH7.continuous\n",
      "Loading continuous data...\n",
      "Length of signal is (36038656,)\n",
      "1: reading ../data/OpenEphys_data/2019-04-26/2019-04-26_12-03-55/101_CH9.continuous\n",
      "Loading continuous data...\n",
      "Length of signal is (36038656,)\n",
      "2: reading ../data/OpenEphys_data/2019-04-26/2019-04-26_12-03-55/101_CH5.continuous\n",
      "Loading continuous data...\n",
      "Length of signal is (36038656,)\n",
      "3: reading ../data/OpenEphys_data/2019-04-26/2019-04-26_12-03-55/101_CH8.continuous\n",
      "Loading continuous data...\n",
      "Length of signal is (36038656,)\n",
      "4: reading ../data/OpenEphys_data/2019-04-26/2019-04-26_12-03-55/101_CH11.continuous\n",
      "Loading continuous data...\n",
      "Length of signal is (36038656,)\n",
      "5: reading ../data/OpenEphys_data/2019-04-26/2019-04-26_12-03-55/101_CH12.continuous\n",
      "Loading continuous data...\n",
      "Length of signal is (36038656,)\n",
      "6: reading ../data/OpenEphys_data/2019-04-26/2019-04-26_12-03-55/101_CH14.continuous\n",
      "Loading continuous data...\n",
      "Length of signal is (36038656,)\n",
      "7: reading ../data/OpenEphys_data/2019-04-26/2019-04-26_12-03-55/101_CH10.continuous\n",
      "Loading continuous data...\n",
      "Length of signal is (36038656,)\n",
      "8: reading ../data/OpenEphys_data/2019-04-26/2019-04-26_12-03-55/101_CH16.continuous\n",
      "Loading continuous data...\n",
      "Length of signal is (36038656,)\n",
      "9: reading ../data/OpenEphys_data/2019-04-26/2019-04-26_12-03-55/101_CH4.continuous\n",
      "Loading continuous data...\n",
      "Length of signal is (36038656,)\n",
      "10: reading ../data/OpenEphys_data/2019-04-26/2019-04-26_12-03-55/101_CH2.continuous\n",
      "Loading continuous data...\n",
      "Length of signal is (36038656,)\n",
      "11: reading ../data/OpenEphys_data/2019-04-26/2019-04-26_12-03-55/101_CH15.continuous\n",
      "Loading continuous data...\n",
      "Length of signal is (36038656,)\n",
      "12: reading ../data/OpenEphys_data/2019-04-26/2019-04-26_12-03-55/101_CH3.continuous\n",
      "Loading continuous data...\n",
      "Length of signal is (36038656,)\n",
      "13: reading ../data/OpenEphys_data/2019-04-26/2019-04-26_12-03-55/101_CH6.continuous\n",
      "Loading continuous data...\n",
      "Length of signal is (36038656,)\n",
      "14: reading ../data/OpenEphys_data/2019-04-26/2019-04-26_12-03-55/101_CH13.continuous\n",
      "Loading continuous data...\n",
      "Length of signal is (36038656,)\n",
      "15: reading ../data/OpenEphys_data/2019-04-26/2019-04-26_12-03-55/101_CH1.continuous\n",
      "Loading continuous data...\n",
      "Length of signal is (36038656,)\n"
     ]
    }
   ],
   "source": [
    "#TODO: if open ephys\n",
    "import scipy.io\n",
    "\n",
    "all_channels = []\n",
    "all_channels_filtered = []\n",
    "all_channels_lfp = []\n",
    "all_fs = []\n",
    "for i, fn in enumerate(f_names):\n",
    "    print('{}: reading {}'.format(i,fn))\n",
    "    file_content = OpenEphys.load(fn)\n",
    "    Fs = float(file_content['header']['sampleRate'])\n",
    "    signal_filtered = butter_bandpass_filter(file_content['data'], 300, 3000, Fs, order=2 )\n",
    "    signal_lfp = butter_bandpass_filter(file_content['data'], 0.01, 300, Fs, order=2 )\n",
    "#     all_channels = all_channels + [file_content['data']]\n",
    "    all_channels_filtered = all_channels_filtered + [signal_filtered]\n",
    "    all_channels_lfp = all_channels_lfp + [signal_lfp]\n",
    "#     scipy.io.savemat(source_path + 'channel_{}.mat'.format(i), {'channel_{}'.format(i): file_content['data']})\n",
    "    print('Length of signal is {}'.format(file_content['data'].shape))\n",
    "    all_fs = all_fs + [float(file_content['header']['sampleRate'])]\n",
    "all_channels = np.array(all_channels)\n",
    "all_channels_filtered = np.array(all_channels_filtered)\n",
    "all_channels_lfp = np.array(all_channels_lfp)\n",
    "all_fs = np.array(all_fs)\n",
    "\n"
   ]
  },
  {
   "cell_type": "code",
   "execution_count": null,
   "metadata": {},
   "outputs": [],
   "source": [
    "#TODO: if KWIK\n",
    "# all_channels = np.transpose(Kwik.load(source_path)['data'][:,0:4])"
   ]
  },
  {
   "cell_type": "code",
   "execution_count": null,
   "metadata": {},
   "outputs": [],
   "source": [
    "print(all_channels_filtered.shape)\n",
    "print(all_channels_lfp.shape)\n",
    "print(all_channels.shape)"
   ]
  },
  {
   "cell_type": "code",
   "execution_count": null,
   "metadata": {},
   "outputs": [],
   "source": [
    "np.arange(0,num_chans)"
   ]
  },
  {
   "cell_type": "code",
   "execution_count": null,
   "metadata": {},
   "outputs": [],
   "source": [
    "num_chans = 6\n",
    "# common_avg_ref(all_channels, np.arange(0,4), np.arange(0,4))\n",
    "common_avg_ref(all_channels_lfp, np.arange(0,num_chans), np.arange(0,num_chans))\n",
    "common_avg_ref(all_channels_filtered, np.arange(0,num_chans), np.arange(0,num_chans))"
   ]
  },
  {
   "cell_type": "code",
   "execution_count": null,
   "metadata": {},
   "outputs": [],
   "source": [
    "chn = 2\n",
    "plt.figure(figsize=(10,5))\n",
    "# plt.plot(np.arange(0, all_channels_lfp.shape[1]) * (1/all_fs[chn]), all_channels_lfp[chn,:].T, alpha=0.3, color='r', zorder=10)\n",
    "# plt.figure(figsize=(15,3))\n",
    "plt.plot(np.arange(0, all_channels_filtered.shape[1]) * (1/all_fs[chn]), all_channels_filtered[chn,:].T, alpha=0.8, color='k')\n",
    "plt.xlabel('Time (s)')\n",
    "plt.show()\n",
    "# plt.plot(signal_average[0:1000], 'k')"
   ]
  },
  {
   "cell_type": "code",
   "execution_count": null,
   "metadata": {},
   "outputs": [],
   "source": [
    "all_channels_filtered = []"
   ]
  },
  {
   "cell_type": "code",
   "execution_count": null,
   "metadata": {},
   "outputs": [],
   "source": [
    "import gc\n",
    "gc.collect()"
   ]
  },
  {
   "cell_type": "code",
   "execution_count": null,
   "metadata": {},
   "outputs": [],
   "source": [
    "chn = -1\n",
    "voltage = all_channels_filtered[chn,:].T"
   ]
  },
  {
   "cell_type": "code",
   "execution_count": null,
   "metadata": {},
   "outputs": [],
   "source": [
    "dt = (1/all_fs[chn])"
   ]
  },
  {
   "cell_type": "code",
   "execution_count": null,
   "metadata": {},
   "outputs": [],
   "source": [
    "from kaveh.sorting.spikesorter import SimpleSpikeSorter\n"
   ]
  },
  {
   "cell_type": "code",
   "execution_count": null,
   "metadata": {},
   "outputs": [],
   "source": [
    "sss = SimpleSpikeSorter(voltage, dt)"
   ]
  },
  {
   "cell_type": "code",
   "execution_count": null,
   "metadata": {
    "scrolled": true
   },
   "outputs": [],
   "source": [
    "sss._pre_process()"
   ]
  },
  {
   "cell_type": "code",
   "execution_count": null,
   "metadata": {
    "scrolled": true
   },
   "outputs": [],
   "source": [
    "sss._detect_spikes_minibatch()"
   ]
  },
  {
   "cell_type": "code",
   "execution_count": null,
   "metadata": {},
   "outputs": [],
   "source": [
    "sss._align_spikes()\n"
   ]
  },
  {
   "cell_type": "code",
   "execution_count": null,
   "metadata": {},
   "outputs": [],
   "source": [
    "sss.cs_num_gmm_components = 5"
   ]
  },
  {
   "cell_type": "code",
   "execution_count": null,
   "metadata": {},
   "outputs": [],
   "source": [
    "# sss.spike_indices = spike_indices\n",
    "sss._cluster_spike_by_feature()\n",
    "sss._cs_post_process()\n",
    "print(sss.cs_indices.shape)"
   ]
  },
  {
   "cell_type": "code",
   "execution_count": null,
   "metadata": {},
   "outputs": [],
   "source": [
    "from sklearn.mixture import GaussianMixture\n",
    "\n",
    "pre_time = 0.0005\n",
    "post_time = 0.005\n",
    "\n",
    "pre_index = int(np.round(pre_time/sss.dt))\n",
    "post_index = int(np.round(post_time/sss.dt))\n",
    "aligned_cs = np.array([sss.voltage[i - pre_index : i + post_index] for i in sss.cs_indices])\n",
    "\n",
    "\n",
    "import random\n",
    "\n",
    "ss_indices = np.setdiff1d(sss.spike_indices, sss.cs_indices)\n",
    "aligned_ss = np.array([sss.voltage[i - pre_index : i + post_index] for i in ss_indices[1:-2]])\n",
    "\n",
    "\n",
    "mean_ss = np.mean(aligned_ss[random.sample(range(0, aligned_ss.shape[0]), sss.cs_indices.size), ], axis=0)"
   ]
  },
  {
   "cell_type": "code",
   "execution_count": null,
   "metadata": {},
   "outputs": [],
   "source": [
    "num_clusters = 8\n",
    "gmm = GaussianMixture(num_clusters, covariance_type = 'full').fit(aligned_cs)\n",
    "\n",
    "cluster_labels = gmm.predict(aligned_cs)\n",
    "\n",
    "clusters = []\n",
    "for cn in np.arange(num_clusters):\n",
    "    clusters.append(aligned_cs[np.where(cluster_labels == cn)])\n",
    "    \n",
    "\n",
    "#         mean_ss = np.mean(aligned_ss, axis=0)"
   ]
  },
  {
   "cell_type": "code",
   "execution_count": null,
   "metadata": {},
   "outputs": [],
   "source": [
    "colors = plt.cm.nipy_spectral(np.linspace(0,1,num_clusters))\n",
    "legend_labels = []\n",
    "for cn in np.arange(num_clusters):\n",
    "    legend_labels.append('c{}({}) '.format(cn, clusters[cn].shape[0]))\n",
    "\n",
    "import gc\n",
    "gc.collect()\n",
    "plt.figure(figsize=(8,5))\n",
    "# ax2 = plt.subplot(122)\n",
    "for cn in np.arange(num_clusters):\n",
    "    plt.plot(np.mean(clusters[cn], axis=0), color = colors[cn], label = legend_labels[cn])\n",
    "plt.plot(mean_ss, '--', label = 'Mean SS({})'.format(aligned_ss.shape[0]))\n",
    "# plt.show()    \n",
    "plt.legend() \n",
    "# plt.title('{}; length: {}s'.format(os.path.basename(file_names[f_index]),sss.voltage.shape[0]*sss.dt))"
   ]
  },
  {
   "cell_type": "code",
   "execution_count": null,
   "metadata": {},
   "outputs": [],
   "source": [
    "plt.title('Signal length = {}s'.format(voltage.size*dt))"
   ]
  },
  {
   "cell_type": "code",
   "execution_count": null,
   "metadata": {},
   "outputs": [],
   "source": [
    "# plt.savefig('../data/plots/ehsan_neuron_2019-04-12_13-12-35-ch1.png')"
   ]
  },
  {
   "cell_type": "code",
   "execution_count": null,
   "metadata": {},
   "outputs": [],
   "source": [
    "plt.figure()\n",
    "plt.plot( all_channels_filtered[chn,:].T, alpha=0.8, color='k')\n",
    "plt.eventplot(sss.cs_indices[np.where(cluster_labels == 0)],linelengths=300 , colors='red', alpha = 0.3 , zorder = 10)\n",
    "plt.xlabel('Time (s)')\n",
    "plt.show()\n"
   ]
  },
  {
   "cell_type": "code",
   "execution_count": null,
   "metadata": {
    "scrolled": false
   },
   "outputs": [],
   "source": [
    "# plt.figure(figsize=(5, 25))\n",
    "# for row in all_channels_filtered:\n",
    "#      plt.plot(row + 800)\n",
    "# #     print(np.max(all_channels_filtered[i,:]))\n",
    "\n",
    "\n",
    "# Three subplots sharing both x/y axes\n",
    "f, axes = plt.subplots(16, sharex=True, sharey=True)\n",
    "for i, row in enumerate(all_channels_filtered):\n",
    "\n",
    "    axes[i].plot(np.arange(0, row.size) * (1/all_fs[i]), row)\n",
    "    \n",
    "    # Fine-tune figure; make subplots close to each other and hide x ticks for\n",
    "    # all but bottom plot.\n",
    "    f.subplots_adjust(hspace=0)\n",
    "    plt.setp([a.get_xticklabels() for a in f.axes[:-1]], visible=False)"
   ]
  },
  {
   "cell_type": "code",
   "execution_count": null,
   "metadata": {},
   "outputs": [],
   "source": [
    "np.min(all_channels_lfp[chn,:])"
   ]
  },
  {
   "cell_type": "code",
   "execution_count": null,
   "metadata": {},
   "outputs": [],
   "source": [
    "chn = 2\n",
    "plt.figure(figsize=(15,3))\n",
    "plt.plot(np.arange(0, all_channels.shape[1]) * (1/all_fs[chn]), all_channels[chn,:].T, alpha=0.5, color='b')\n",
    "plt.plot(np.arange(0, all_channels_filtered.shape[1]) * (1/all_fs[chn]), all_channels_filtered[chn,:].T, alpha=0.5, color='r')\n",
    "plt.xlabel('Time (s)')\n",
    "plt.show()"
   ]
  }
 ],
 "metadata": {
  "kernelspec": {
   "display_name": "Python 2",
   "language": "python",
   "name": "python2"
  },
  "language_info": {
   "codemirror_mode": {
    "name": "ipython",
    "version": 2
   },
   "file_extension": ".py",
   "mimetype": "text/x-python",
   "name": "python",
   "nbconvert_exporter": "python",
   "pygments_lexer": "ipython2",
   "version": "2.7.12"
  }
 },
 "nbformat": 4,
 "nbformat_minor": 2
}
