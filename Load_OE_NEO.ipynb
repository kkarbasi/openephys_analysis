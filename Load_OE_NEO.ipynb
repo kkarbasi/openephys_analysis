{
 "cells": [
  {
   "cell_type": "code",
   "execution_count": 18,
   "metadata": {},
   "outputs": [],
   "source": [
    "from neo.io import OpenEphysIO\n",
    "from kaveh.behavioral.oculomotor.session import session\n",
    "from matplotlib import pyplot as plt\n",
    "import numpy as np\n",
    "import csv\n",
    "from kaveh.toolbox import find_file\n",
    "import os\n",
    "import re\n"
   ]
  },
  {
   "cell_type": "code",
   "execution_count": 13,
   "metadata": {},
   "outputs": [
    {
     "name": "stdout",
     "output_type": "stream",
     "text": [
      "The autoreload extension is already loaded. To reload it, use:\n",
      "  %reload_ext autoreload\n"
     ]
    }
   ],
   "source": [
    "%matplotlib notebook\n",
    "%load_ext autoreload\n",
    "%autoreload 2"
   ]
  },
  {
   "cell_type": "code",
   "execution_count": 16,
   "metadata": {},
   "outputs": [],
   "source": [
    "source_path = '../data/OpenEphys_data/2019-04-12/2019-04-12_13-12-35/'\n",
    "f_names = []\n",
    "for root, dirnames, filenames in os.walk(source_path):\n",
    "    for filename in filenames:\n",
    "        f_regex = re.compile(r\".*CH(\\d|\\d\\d)\\.continuous$\")\n",
    "#         f_regex = re.compile(r\".*CH(50|51)\\.continuous$\")\n",
    "#         f_regex = re.compile(r\".*\\.continuous$\")\n",
    "#         f_regex = re.compile(r\".*_3\\.continuous$\")\n",
    "        if f_regex.match(filename):\n",
    "            f_names = f_names + [os.path.join(root, filename)]"
   ]
  },
  {
   "cell_type": "code",
   "execution_count": 17,
   "metadata": {},
   "outputs": [
    {
     "data": {
      "text/plain": [
       "['../data/OpenEphys_data/2019-04-12/2019-04-12_13-12-35/101_CH29.continuous',\n",
       " '../data/OpenEphys_data/2019-04-12/2019-04-12_13-12-35/101_CH17.continuous',\n",
       " '../data/OpenEphys_data/2019-04-12/2019-04-12_13-12-35/101_CH26.continuous',\n",
       " '../data/OpenEphys_data/2019-04-12/2019-04-12_13-12-35/101_CH7.continuous',\n",
       " '../data/OpenEphys_data/2019-04-12/2019-04-12_13-12-35/101_CH9.continuous',\n",
       " '../data/OpenEphys_data/2019-04-12/2019-04-12_13-12-35/101_CH24.continuous',\n",
       " '../data/OpenEphys_data/2019-04-12/2019-04-12_13-12-35/101_CH5.continuous',\n",
       " '../data/OpenEphys_data/2019-04-12/2019-04-12_13-12-35/101_CH8.continuous',\n",
       " '../data/OpenEphys_data/2019-04-12/2019-04-12_13-12-35/101_CH19.continuous',\n",
       " '../data/OpenEphys_data/2019-04-12/2019-04-12_13-12-35/101_CH18.continuous',\n",
       " '../data/OpenEphys_data/2019-04-12/2019-04-12_13-12-35/101_CH11.continuous',\n",
       " '../data/OpenEphys_data/2019-04-12/2019-04-12_13-12-35/101_CH25.continuous',\n",
       " '../data/OpenEphys_data/2019-04-12/2019-04-12_13-12-35/101_CH12.continuous',\n",
       " '../data/OpenEphys_data/2019-04-12/2019-04-12_13-12-35/101_CH14.continuous',\n",
       " '../data/OpenEphys_data/2019-04-12/2019-04-12_13-12-35/101_CH10.continuous',\n",
       " '../data/OpenEphys_data/2019-04-12/2019-04-12_13-12-35/101_CH16.continuous',\n",
       " '../data/OpenEphys_data/2019-04-12/2019-04-12_13-12-35/101_CH23.continuous',\n",
       " '../data/OpenEphys_data/2019-04-12/2019-04-12_13-12-35/101_CH4.continuous',\n",
       " '../data/OpenEphys_data/2019-04-12/2019-04-12_13-12-35/101_CH21.continuous',\n",
       " '../data/OpenEphys_data/2019-04-12/2019-04-12_13-12-35/101_CH2.continuous',\n",
       " '../data/OpenEphys_data/2019-04-12/2019-04-12_13-12-35/101_CH15.continuous',\n",
       " '../data/OpenEphys_data/2019-04-12/2019-04-12_13-12-35/101_CH22.continuous',\n",
       " '../data/OpenEphys_data/2019-04-12/2019-04-12_13-12-35/101_CH3.continuous',\n",
       " '../data/OpenEphys_data/2019-04-12/2019-04-12_13-12-35/101_CH6.continuous',\n",
       " '../data/OpenEphys_data/2019-04-12/2019-04-12_13-12-35/101_CH28.continuous',\n",
       " '../data/OpenEphys_data/2019-04-12/2019-04-12_13-12-35/101_CH32.continuous',\n",
       " '../data/OpenEphys_data/2019-04-12/2019-04-12_13-12-35/101_CH30.continuous',\n",
       " '../data/OpenEphys_data/2019-04-12/2019-04-12_13-12-35/101_CH20.continuous',\n",
       " '../data/OpenEphys_data/2019-04-12/2019-04-12_13-12-35/101_CH27.continuous',\n",
       " '../data/OpenEphys_data/2019-04-12/2019-04-12_13-12-35/101_CH13.continuous',\n",
       " '../data/OpenEphys_data/2019-04-12/2019-04-12_13-12-35/101_CH31.continuous',\n",
       " '../data/OpenEphys_data/2019-04-12/2019-04-12_13-12-35/101_CH1.continuous']"
      ]
     },
     "execution_count": 17,
     "metadata": {},
     "output_type": "execute_result"
    }
   ],
   "source": [
    "f_names"
   ]
  },
  {
   "cell_type": "code",
   "execution_count": 20,
   "metadata": {},
   "outputs": [
    {
     "ename": "ValueError",
     "evalue": "invalid literal for int() with base 10: 'AUX2'",
     "output_type": "error",
     "traceback": [
      "\u001b[0;31m\u001b[0m",
      "\u001b[0;31mValueError\u001b[0mTraceback (most recent call last)",
      "\u001b[0;32m<ipython-input-20-c627c07ec9b4>\u001b[0m in \u001b[0;36m<module>\u001b[0;34m()\u001b[0m\n\u001b[0;32m----> 1\u001b[0;31m \u001b[0mneo_reader\u001b[0m \u001b[0;34m=\u001b[0m \u001b[0mOpenEphysIO\u001b[0m\u001b[0;34m(\u001b[0m\u001b[0mdirname\u001b[0m\u001b[0;34m=\u001b[0m\u001b[0msource_path\u001b[0m\u001b[0;34m)\u001b[0m\u001b[0;34m\u001b[0m\u001b[0m\n\u001b[0m",
      "\u001b[0;32m/usr/local/lib/python2.7/dist-packages/neo/io/openephysio.pyc\u001b[0m in \u001b[0;36m__init__\u001b[0;34m(self, dirname)\u001b[0m\n\u001b[1;32m     11\u001b[0m     \u001b[0;32mdef\u001b[0m \u001b[0m__init__\u001b[0m\u001b[0;34m(\u001b[0m\u001b[0mself\u001b[0m\u001b[0;34m,\u001b[0m \u001b[0mdirname\u001b[0m\u001b[0;34m)\u001b[0m\u001b[0;34m:\u001b[0m\u001b[0;34m\u001b[0m\u001b[0m\n\u001b[1;32m     12\u001b[0m         \u001b[0mOpenEphysRawIO\u001b[0m\u001b[0;34m.\u001b[0m\u001b[0m__init__\u001b[0m\u001b[0;34m(\u001b[0m\u001b[0mself\u001b[0m\u001b[0;34m,\u001b[0m \u001b[0mdirname\u001b[0m\u001b[0;34m=\u001b[0m\u001b[0mdirname\u001b[0m\u001b[0;34m)\u001b[0m\u001b[0;34m\u001b[0m\u001b[0m\n\u001b[0;32m---> 13\u001b[0;31m         \u001b[0mBaseFromRaw\u001b[0m\u001b[0;34m.\u001b[0m\u001b[0m__init__\u001b[0m\u001b[0;34m(\u001b[0m\u001b[0mself\u001b[0m\u001b[0;34m,\u001b[0m \u001b[0mdirname\u001b[0m\u001b[0;34m)\u001b[0m\u001b[0;34m\u001b[0m\u001b[0m\n\u001b[0m",
      "\u001b[0;32m/usr/local/lib/python2.7/dist-packages/neo/io/basefromrawio.pyc\u001b[0m in \u001b[0;36m__init__\u001b[0;34m(self, *args, **kargs)\u001b[0m\n\u001b[1;32m     71\u001b[0m     \u001b[0;32mdef\u001b[0m \u001b[0m__init__\u001b[0m\u001b[0;34m(\u001b[0m\u001b[0mself\u001b[0m\u001b[0;34m,\u001b[0m \u001b[0;34m*\u001b[0m\u001b[0margs\u001b[0m\u001b[0;34m,\u001b[0m \u001b[0;34m**\u001b[0m\u001b[0mkargs\u001b[0m\u001b[0;34m)\u001b[0m\u001b[0;34m:\u001b[0m\u001b[0;34m\u001b[0m\u001b[0m\n\u001b[1;32m     72\u001b[0m         \u001b[0mBaseIO\u001b[0m\u001b[0;34m.\u001b[0m\u001b[0m__init__\u001b[0m\u001b[0;34m(\u001b[0m\u001b[0mself\u001b[0m\u001b[0;34m,\u001b[0m \u001b[0;34m*\u001b[0m\u001b[0margs\u001b[0m\u001b[0;34m,\u001b[0m \u001b[0;34m**\u001b[0m\u001b[0mkargs\u001b[0m\u001b[0;34m)\u001b[0m\u001b[0;34m\u001b[0m\u001b[0m\n\u001b[0;32m---> 73\u001b[0;31m         \u001b[0mself\u001b[0m\u001b[0;34m.\u001b[0m\u001b[0mparse_header\u001b[0m\u001b[0;34m(\u001b[0m\u001b[0;34m)\u001b[0m\u001b[0;34m\u001b[0m\u001b[0m\n\u001b[0m\u001b[1;32m     74\u001b[0m \u001b[0;34m\u001b[0m\u001b[0m\n\u001b[1;32m     75\u001b[0m     def read_block(self, block_index=0, lazy=False, signal_group_mode=None,\n",
      "\u001b[0;32m/usr/local/lib/python2.7/dist-packages/neo/rawio/baserawio.pyc\u001b[0m in \u001b[0;36mparse_header\u001b[0;34m(self)\u001b[0m\n\u001b[1;32m    149\u001b[0m \u001b[0;34m\u001b[0m\u001b[0m\n\u001b[1;32m    150\u001b[0m         \"\"\"\n\u001b[0;32m--> 151\u001b[0;31m         \u001b[0mself\u001b[0m\u001b[0;34m.\u001b[0m\u001b[0m_parse_header\u001b[0m\u001b[0;34m(\u001b[0m\u001b[0;34m)\u001b[0m\u001b[0;34m\u001b[0m\u001b[0m\n\u001b[0m\u001b[1;32m    152\u001b[0m         \u001b[0mself\u001b[0m\u001b[0;34m.\u001b[0m\u001b[0m_group_signal_channel_characteristics\u001b[0m\u001b[0;34m(\u001b[0m\u001b[0;34m)\u001b[0m\u001b[0;34m\u001b[0m\u001b[0m\n\u001b[1;32m    153\u001b[0m \u001b[0;34m\u001b[0m\u001b[0m\n",
      "\u001b[0;32m/usr/local/lib/python2.7/dist-packages/neo/rawio/openephysrawio.pyc\u001b[0m in \u001b[0;36m_parse_header\u001b[0;34m(self)\u001b[0m\n\u001b[1;32m     73\u001b[0m \u001b[0;34m\u001b[0m\u001b[0m\n\u001b[1;32m     74\u001b[0m     \u001b[0;32mdef\u001b[0m \u001b[0m_parse_header\u001b[0m\u001b[0;34m(\u001b[0m\u001b[0mself\u001b[0m\u001b[0;34m)\u001b[0m\u001b[0;34m:\u001b[0m\u001b[0;34m\u001b[0m\u001b[0m\n\u001b[0;32m---> 75\u001b[0;31m         \u001b[0minfo\u001b[0m \u001b[0;34m=\u001b[0m \u001b[0mself\u001b[0m\u001b[0;34m.\u001b[0m\u001b[0m_info\u001b[0m \u001b[0;34m=\u001b[0m \u001b[0mexplore_folder\u001b[0m\u001b[0;34m(\u001b[0m\u001b[0mself\u001b[0m\u001b[0;34m.\u001b[0m\u001b[0mdirname\u001b[0m\u001b[0;34m)\u001b[0m\u001b[0;34m\u001b[0m\u001b[0m\n\u001b[0m\u001b[1;32m     76\u001b[0m         \u001b[0mnb_segment\u001b[0m \u001b[0;34m=\u001b[0m \u001b[0minfo\u001b[0m\u001b[0;34m[\u001b[0m\u001b[0;34m'nb_segment'\u001b[0m\u001b[0;34m]\u001b[0m\u001b[0;34m\u001b[0m\u001b[0m\n\u001b[1;32m     77\u001b[0m \u001b[0;34m\u001b[0m\u001b[0m\n",
      "\u001b[0;32m/usr/local/lib/python2.7/dist-packages/neo/rawio/openephysrawio.pyc\u001b[0m in \u001b[0;36mexplore_folder\u001b[0;34m(dirname)\u001b[0m\n\u001b[1;32m    472\u001b[0m             \u001b[0ms\u001b[0m \u001b[0;34m=\u001b[0m \u001b[0mcontinuous_filename\u001b[0m\u001b[0;34m.\u001b[0m\u001b[0mreplace\u001b[0m\u001b[0;34m(\u001b[0m\u001b[0;34m'.continuous'\u001b[0m\u001b[0;34m,\u001b[0m \u001b[0;34m''\u001b[0m\u001b[0;34m)\u001b[0m\u001b[0;34m.\u001b[0m\u001b[0msplit\u001b[0m\u001b[0;34m(\u001b[0m\u001b[0;34m'_'\u001b[0m\u001b[0;34m)\u001b[0m\u001b[0;34m\u001b[0m\u001b[0m\n\u001b[1;32m    473\u001b[0m             \u001b[0mprocessor_id\u001b[0m\u001b[0;34m,\u001b[0m \u001b[0mch_name\u001b[0m \u001b[0;34m=\u001b[0m \u001b[0ms\u001b[0m\u001b[0;34m[\u001b[0m\u001b[0;36m0\u001b[0m\u001b[0;34m]\u001b[0m\u001b[0;34m,\u001b[0m \u001b[0ms\u001b[0m\u001b[0;34m[\u001b[0m\u001b[0;36m1\u001b[0m\u001b[0;34m]\u001b[0m\u001b[0;34m\u001b[0m\u001b[0m\n\u001b[0;32m--> 474\u001b[0;31m             \u001b[0mchan_id\u001b[0m \u001b[0;34m=\u001b[0m \u001b[0mint\u001b[0m\u001b[0;34m(\u001b[0m\u001b[0mch_name\u001b[0m\u001b[0;34m.\u001b[0m\u001b[0mreplace\u001b[0m\u001b[0;34m(\u001b[0m\u001b[0;34m'CH'\u001b[0m\u001b[0;34m,\u001b[0m \u001b[0;34m''\u001b[0m\u001b[0;34m)\u001b[0m\u001b[0;34m)\u001b[0m\u001b[0;34m\u001b[0m\u001b[0m\n\u001b[0m\u001b[1;32m    475\u001b[0m             \u001b[0mchannel_ids\u001b[0m\u001b[0;34m.\u001b[0m\u001b[0mappend\u001b[0m\u001b[0;34m(\u001b[0m\u001b[0mchan_id\u001b[0m\u001b[0;34m)\u001b[0m\u001b[0;34m\u001b[0m\u001b[0m\n\u001b[1;32m    476\u001b[0m         \u001b[0morder\u001b[0m \u001b[0;34m=\u001b[0m \u001b[0mnp\u001b[0m\u001b[0;34m.\u001b[0m\u001b[0margsort\u001b[0m\u001b[0;34m(\u001b[0m\u001b[0mchannel_ids\u001b[0m\u001b[0;34m)\u001b[0m\u001b[0;34m\u001b[0m\u001b[0m\n",
      "\u001b[0;31mValueError\u001b[0m: invalid literal for int() with base 10: 'AUX2'"
     ]
    }
   ],
   "source": [
    "neo_reader = OpenEphysIO(dirname=source_path)"
   ]
  },
  {
   "cell_type": "code",
   "execution_count": null,
   "metadata": {},
   "outputs": [],
   "source": []
  }
 ],
 "metadata": {
  "kernelspec": {
   "display_name": "Python 2",
   "language": "python",
   "name": "python2"
  },
  "language_info": {
   "codemirror_mode": {
    "name": "ipython",
    "version": 2
   },
   "file_extension": ".py",
   "mimetype": "text/x-python",
   "name": "python",
   "nbconvert_exporter": "python",
   "pygments_lexer": "ipython2",
   "version": "2.7.12"
  }
 },
 "nbformat": 4,
 "nbformat_minor": 2
}
