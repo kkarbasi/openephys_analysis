{
 "cells": [
  {
   "cell_type": "code",
   "execution_count": null,
   "metadata": {},
   "outputs": [],
   "source": [
    "source_path = '../data/OpenEphys_data/2019-06-25_18-28-41/'\n",
    "chan_index = 5"
   ]
  },
  {
   "cell_type": "code",
   "execution_count": null,
   "metadata": {},
   "outputs": [],
   "source": [
    "import OpenEphys\n",
    "from kaveh.toolbox import common_avg_ref, butter_bandpass_filter\n",
    "import Kwik\n",
    "from matplotlib import pyplot as plt\n",
    "import numpy as np\n",
    "import os\n",
    "import re\n",
    "import scipy.signal\n",
    "import csv\n",
    "from matplotlib import style\n",
    "style.use('bmh')\n",
    "COLOR = 'gray'\n",
    "plt.rcParams['text.color'] = COLOR\n",
    "plt.rcParams['axes.labelcolor'] = COLOR\n",
    "plt.rcParams['xtick.color'] = COLOR\n",
    "plt.rcParams['ytick.color'] = COLOR"
   ]
  },
  {
   "cell_type": "code",
   "execution_count": null,
   "metadata": {},
   "outputs": [],
   "source": [
    "%matplotlib notebook\n",
    "%load_ext autoreload\n",
    "%autoreload 2"
   ]
  },
  {
   "cell_type": "code",
   "execution_count": null,
   "metadata": {},
   "outputs": [],
   "source": [
    "messages_fname = os.path.join(source_path, 'messages.events')\n",
    "events_fname = os.path.join(source_path, 'all_channels.events')\n",
    "\n",
    "with open(messages_fname, 'r') as f:\n",
    "    file_content = f.readlines()\n",
    "Fs = float(file_content[1].split('@')[-1][0:-3])\n",
    "time0 = int(file_content[1].split(' ')[0])\n",
    "net_events_prim = np.array([[l.split(' ')[0], l.split(' ')[1][1:]] for l in file_content if len(l.split(' ')) == 2 and 'P' in l.split(' ')[-1]]).astype(np.int)\n",
    "net_events_corr = np.array([[l.split(' ')[0], l.split(' ')[1][1:]] for l in file_content if len(l.split(' ')) == 2 and 'C' in l.split(' ')[-1]]).astype(np.int)\n",
    "net_events_prim[:,0] = net_events_prim[:,0] - time0\n",
    "net_events_corr[:,0] = net_events_corr[:,0] - time0\n",
    "directions_prim, counts_prim = np.unique(net_events_prim[:,1], return_counts=True)\n",
    "directions_corr, counts_corr = np.unique(net_events_corr[:,1], return_counts=True)"
   ]
  },
  {
   "cell_type": "code",
   "execution_count": null,
   "metadata": {},
   "outputs": [],
   "source": [
    "f_name_csv = os.path.join(source_path, 'channel_{}.CS.csv'.format(chan_index))\n",
    "with open(f_name_csv, 'r') as csv_f:\n",
    "    reader = csv.reader(csv_f)\n",
    "    cs_indices = np.squeeze(np.array(list(reader), dtype=np.int64))"
   ]
  },
  {
   "cell_type": "code",
   "execution_count": null,
   "metadata": {},
   "outputs": [],
   "source": [
    "cs_range = 0.200*Fs\n",
    "cs_counts_prim = []\n",
    "\n",
    "for d in directions_prim:\n",
    "    d_indices = net_events_prim[np.where(net_events_prim[:,1] == d), 0][0]\n",
    "    cs_count = 0\n",
    "    for di in d_indices:\n",
    "        cs_count = cs_count + np.count_nonzero(np.where(np.logical_and(cs_indices < di + cs_range, cs_indices > di)))\n",
    "    cs_counts_prim.append(cs_count)\n",
    "cs_probs_prim = [csc*1.0/counts_prim[i] for i, csc in enumerate(cs_counts_prim) ]"
   ]
  },
  {
   "cell_type": "code",
   "execution_count": null,
   "metadata": {},
   "outputs": [],
   "source": [
    "cs_range = 0.200*Fs\n",
    "cs_counts_corr = []\n",
    "\n",
    "for d in directions_corr:\n",
    "    d_indices = net_events_corr[np.where(net_events_corr[:,1] == d), 0][0]\n",
    "    cs_count = 0\n",
    "    for di in d_indices:\n",
    "        cs_count = cs_count + np.count_nonzero(np.where(np.logical_and(cs_indices < di + cs_range, cs_indices > di)))\n",
    "    cs_counts_corr.append(cs_count)\n",
    "cs_probs_corr = [csc*1.0/counts_corr[i] for i, csc in enumerate(cs_counts_corr) ]"
   ]
  },
  {
   "cell_type": "code",
   "execution_count": null,
   "metadata": {},
   "outputs": [],
   "source": [
    "target_vectors = np.array([[1,0], [0,1], [-1,0], [0,-1]])\n",
    "weighted_v = np.array([tv*cs_probs_prim[i] for i, tv in enumerate(target_vectors)])\n",
    "cs_on = np.sum(weighted_v, axis=0)\n",
    "cs_on = np.arctan2(cs_on[1], cs_on[0])* 180 / np.pi\n",
    "print('CS-on for PRIMARY stimulus is {} degrees'.format(cs_on))\n",
    "\n",
    "weighted_v = np.array([tv*cs_probs_corr[i] for i, tv in enumerate(target_vectors)])\n",
    "cs_on = np.sum(weighted_v, axis=0)\n",
    "cs_on = np.arctan2(cs_on[1], cs_on[0])* 180 / np.pi\n",
    "print('CS-on for CORRECTIVE stimulus is {} degrees'.format(cs_on))"
   ]
  },
  {
   "cell_type": "code",
   "execution_count": null,
   "metadata": {},
   "outputs": [],
   "source": [
    "plt.figure()\n",
    "plt.plot(directions_prim, cs_probs_prim)\n",
    "plt.xticks(directions_prim, directions_prim)\n",
    "plt.xlabel('Direction (deg)')\n",
    "plt.ylabel('CS probability')\n",
    "plt.title('CS tuning; primary')"
   ]
  },
  {
   "cell_type": "code",
   "execution_count": null,
   "metadata": {},
   "outputs": [],
   "source": [
    "plt.figure()\n",
    "plt.plot(directions_corr, cs_probs_corr)\n",
    "plt.xticks(directions_corr, directions_corr)\n",
    "plt.xlabel('Direction (deg)')\n",
    "plt.ylabel('CS probability')\n",
    "plt.title('CS tuning; corrective')"
   ]
  }
 ],
 "metadata": {
  "kernelspec": {
   "display_name": "Python 2",
   "language": "python",
   "name": "python2"
  },
  "language_info": {
   "codemirror_mode": {
    "name": "ipython",
    "version": 2
   },
   "file_extension": ".py",
   "mimetype": "text/x-python",
   "name": "python",
   "nbconvert_exporter": "python",
   "pygments_lexer": "ipython2",
   "version": "2.7.12"
  }
 },
 "nbformat": 4,
 "nbformat_minor": 2
}
